{
 "cells": [
  {
   "cell_type": "code",
   "execution_count": null,
   "id": "4489b7ba-a75a-49a7-a849-00eca8248797",
   "metadata": {},
   "outputs": [],
   "source": [
    "from netCDF4 import Dataset\n",
    "import numpy as np\n",
    "import matplotlib.pyplot as plt"
   ]
  },
  {
   "cell_type": "code",
   "execution_count": null,
   "id": "1f06a6be-2a94-4973-9814-0ba2276fd61e",
   "metadata": {},
   "outputs": [],
   "source": [
    "# Load tracer concentration time series\n",
    "nc_file=Dataset('biomass_c.0000000000.t001.nc','r')\n",
    "nc_dims=nc_file.dimensions\n",
    "nc_vars=nc_file.variables"
   ]
  },
  {
   "cell_type": "code",
   "execution_count": null,
   "id": "d1ef8d80-3414-41ae-ae19-a8436e40780c",
   "metadata": {},
   "outputs": [],
   "source": [
    "# Plankton will be from TRAC021 onward ( 6+4+0 experiment )\n",
    "nphyt=6;nzoo=4;nbac=0;nplank=nphyt+nzoo+nbac"
   ]
  },
  {
   "cell_type": "code",
   "execution_count": null,
   "id": "82b16378-ff6e-48d9-9d98-662414d94490",
   "metadata": {},
   "outputs": [],
   "source": [
    "# Show the variable descriptions\n",
    "for var_name, variable in nc_vars.items():\n",
    "    var_natt=len(variable.ncattrs())\n",
    "    var_desc=\"N/A\"\n",
    "    var_units=\"N/A\"\n",
    "    if 'description' in variable.ncattrs():\n",
    "        var_desc=variable.description\n",
    "    else:\n",
    "        if 'long_name' in variable.ncattrs():\n",
    "            var_desc=variable.long_name\n",
    "    if 'units' in variable.ncattrs():\n",
    "        var_units=variable.units\n",
    "    print(f\"Variable: {var_name}, Description: {var_desc}, ({var_units})\")\n"
   ]
  },
  {
   "cell_type": "code",
   "execution_count": null,
   "id": "879b5482-2c2c-4589-a1a7-0d437765ef22",
   "metadata": {},
   "outputs": [],
   "source": [
    "# Coordinates\n",
    "time_levels=np.concatenate( (np.array([0]), np.array(nc_vars['T'][:].data)) )\n",
    "delZ=np.array([10.00, 10.00, 10.00, 10.00, 10.00, 10.00, 10.00, 10.01, 10.03, 10.11, 10.32, 10.80, 11.76, 13.42, 16.04 , 19.82, 24.85, 31.10, 38.42, 46.50, 55.00, 63.50, 71.58, 78.90, 85.15, 90.18, 93.96, 96.58, 98.25, 99.25,100.01,101.33,104.56,111.33,122.83, 139.09,158.94,180.83,203.55,226.50,249.50,272.50,295.50,318.50, 341.50,364.50,387.50,410.50,433.50,456.50]);\n",
    "zU=np.concatenate((np.array([0]), np.cumsum(delZ)))[0:-1]\n",
    "zD=np.concatenate((np.array([0]), np.cumsum(delZ)))[1:]\n",
    "zF=-np.concatenate((np.array([0]), np.cumsum(delZ)))\n",
    "zC=-(zU+zD)*0.5\n",
    "# HOTS\n",
    "lat=-158\n",
    "lon=22.75\n"
   ]
  },
  {
   "cell_type": "code",
   "execution_count": null,
   "id": "297a2a22-8759-4dd3-85e3-23a883b322f8",
   "metadata": {},
   "outputs": [],
   "source": [
    "# Plot concentrations of different Phtyoplankton\n",
    "vphyto=[]\n",
    "i0=21\n",
    "for i in range(nphyt):\n",
    "    vn='TRAC%d'%(i+i0)\n",
    "    vphyto.append(np.ma.filled(np.squeeze(np.reshape(nc_vars[vn][:],nc_vars[vn].shape)),fill_value=0))\n",
    "\n",
    "# plt.figure(figsize=(15, 15));\n",
    "fig, axs = plt.subplots(nphyt,1,figsize=(15, nphyt*7));\n",
    "for ntr in range(nphyt):\n",
    "    nsp=ntr;\n",
    "    x=(time_levels/(365*24*3600))\n",
    "    y=zF\n",
    "    # fig, ax = plt.subplots()\n",
    "    v=vphyto[nsp]\n",
    "    axs[nsp].pcolormesh(x, y, v.transpose())\n",
    "    ax=axs[nsp]\n",
    "    xmin,xmax,ymin,ymax=ax.axis()\n",
    "    ax.axes.set_xlim(0,10)\n",
    "    ax.axes.set_ylim(bottom=-200,top=ymax)\n",
    "    # axs[0].axes.colorbar();\n",
    "    axs[nsp].set_xlabel('Years')\n",
    "    axs[nsp].set_ylabel('Depth')\n",
    "    axs[nsp].set_title('Phytoplankton TRAC%2.2d'%(nsp+i0));\n"
   ]
  },
  {
   "cell_type": "code",
   "execution_count": null,
   "id": "c3fbae73-62a1-421e-a28e-b9adb4e6b0ed",
   "metadata": {},
   "outputs": [],
   "source": [
    "# Plot concentrations of different Zooplankton\n",
    "vzoo=[]\n",
    "i0=27\n",
    "for i in range(nzoo):\n",
    "    vn='TRAC%d'%(i+i0)\n",
    "    vzoo.append(np.ma.filled(np.squeeze(np.reshape(nc_vars[vn][:],nc_vars[vn].shape)),fill_value=0))\n",
    "\n",
    "# plt.figure(figsize=(15, 15));\n",
    "fig, axs = plt.subplots(nzoo,1,figsize=(15, nzoo*7));\n",
    "for ntr in range(nzoo):\n",
    "    nsp=ntr;\n",
    "    x=(time_levels/(365*24*3600))\n",
    "    y=zF\n",
    "    # fig, ax = plt.subplots()\n",
    "    v=vzoo[nsp]\n",
    "    axs[nsp].pcolormesh(x, y, v.transpose())\n",
    "    ax=axs[nsp]\n",
    "    xmin,xmax,ymin,ymax=ax.axis()\n",
    "    ax.axes.set_xlim(0,10)\n",
    "    ax.axes.set_ylim(bottom=-200,top=ymax)\n",
    "    # axs[0].axes.colorbar();\n",
    "    axs[nsp].set_xlabel('Years')\n",
    "    axs[nsp].set_ylabel('Depth')\n",
    "    axs[nsp].set_title('Zooplankton TRAC%d'%(nsp+i0));\n"
   ]
  },
  {
   "cell_type": "code",
   "execution_count": null,
   "id": "566a4dbb-68ac-492b-b100-fb04319ce1a0",
   "metadata": {},
   "outputs": [],
   "source": []
  }
 ],
 "metadata": {
  "kernelspec": {
   "display_name": "Python 3 (ipykernel)",
   "language": "python",
   "name": "python3"
  },
  "language_info": {
   "codemirror_mode": {
    "name": "ipython",
    "version": 3
   },
   "file_extension": ".py",
   "mimetype": "text/x-python",
   "name": "python",
   "nbconvert_exporter": "python",
   "pygments_lexer": "ipython3",
   "version": "3.11.8"
  }
 },
 "nbformat": 4,
 "nbformat_minor": 5
}
